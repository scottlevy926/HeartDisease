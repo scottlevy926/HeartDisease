{
 "cells": [
  {
   "cell_type": "code",
   "execution_count": null,
   "metadata": {},
   "outputs": [],
   "source": [
    "import numpy as np\n",
    "import pandas as pd\n",
    "import matplotlib.pyplot as plt\n",
    "import seaborn as sns\n",
    "import os\n",
    "%matplotlib inline"
   ]
  },
  {
   "cell_type": "code",
   "execution_count": null,
   "metadata": {},
   "outputs": [],
   "source": [
    "DATA_DIR = '../MIS 776'\n",
    "FILE_NAME = 'heart 2.csv'\n",
    "data_path = os.path.join(DATA_DIR, FILE_NAME)\n",
    "datHeart = pd.read_csv(data_path)"
   ]
  },
  {
   "cell_type": "code",
   "execution_count": null,
   "metadata": {},
   "outputs": [],
   "source": [
    "datHeart"
   ]
  },
  {
   "cell_type": "code",
   "execution_count": null,
   "metadata": {},
   "outputs": [],
   "source": [
    "datHeart['Cholesterol']=datHeart['Cholesterol'].replace(0, np.nan) \n",
    "    \n",
    "print(datHeart['Cholesterol'].mean())    \n"
   ]
  },
  {
   "cell_type": "code",
   "execution_count": null,
   "metadata": {},
   "outputs": [],
   "source": [
    "datHeart['Cholesterol']=datHeart['Cholesterol'].fillna(datHeart.groupby(['Sex','Age'])['Cholesterol'].transform('mean'))"
   ]
  },
  {
   "cell_type": "code",
   "execution_count": null,
   "metadata": {},
   "outputs": [],
   "source": [
    "datHeart\n"
   ]
  },
  {
   "cell_type": "code",
   "execution_count": null,
   "metadata": {},
   "outputs": [],
   "source": [
    "\n",
    "datHeart = pd.concat([datHeart, pd.get_dummies(datHeart['Sex'], drop_first=True)], axis=1)\n",
    "datHeart = pd.concat([datHeart, pd.get_dummies(datHeart['ChestPainType'], drop_first=True)], axis=1)\n",
    "datHeart = pd.concat([datHeart, pd.get_dummies(datHeart['RestingECG'], drop_first=True)], axis=1)\n",
    "datHeart = pd.concat([datHeart, pd.get_dummies(datHeart['ExerciseAngina'], drop_first=True)], axis=1)\n",
    "datHeart = pd.concat([datHeart, pd.get_dummies(datHeart['ST_Slope'], drop_first=True)], axis=1)\n",
    "#datHeart = datHeart.drop(['Sex'], axis = 1)\n",
    "#datHeart = datHeart.drop(['ChestPainType'], axis = 1)\n",
    "#datHeart = datHeart.drop(['RestingECG'], axis = 1)\n",
    "#datHeart = datHeart.drop(['ExerciseAngina'], axis = 1)\n",
    "#datHeart = datHeart.drop(['ST_Slope'], axis = 1)\n",
    "\n",
    "datHeart.head()"
   ]
  },
  {
   "cell_type": "code",
   "execution_count": null,
   "metadata": {},
   "outputs": [],
   "source": [
    "datHeart = datHeart.drop(['Sex'], axis = 1)\n",
    "datHeart = datHeart.drop(['ChestPainType'], axis = 1)\n",
    "datHeart = datHeart.drop(['RestingECG'], axis = 1)\n",
    "datHeart = datHeart.drop(['ExerciseAngina'], axis = 1)\n",
    "datHeart = datHeart.drop(['ST_Slope'], axis = 1)\n",
    "datHeart.head()"
   ]
  },
  {
   "cell_type": "code",
   "execution_count": null,
   "metadata": {},
   "outputs": [],
   "source": [
    "#datHousing = pd.concat([datHousing, pd.get_dummies(datHousing['RIVER'], prefix='river', drop_first=True)], axis=1)\n",
    "#datHousing.drop(['RIVER'], inplace=True, axis=1)\n",
    "#datHousing.head()\n",
    "#datHeart"
   ]
  },
  {
   "cell_type": "code",
   "execution_count": null,
   "metadata": {},
   "outputs": [],
   "source": [
    "np.mean(datHeart['HeartDisease'])"
   ]
  },
  {
   "cell_type": "code",
   "execution_count": null,
   "metadata": {},
   "outputs": [],
   "source": [
    "X = datHeart.drop(['HeartDisease'], axis=1)\n",
    "X.head()"
   ]
  },
  {
   "cell_type": "code",
   "execution_count": null,
   "metadata": {},
   "outputs": [],
   "source": [
    "y=datHeart['HeartDisease']\n",
    "y.head()"
   ]
  },
  {
   "cell_type": "code",
   "execution_count": null,
   "metadata": {},
   "outputs": [],
   "source": [
    "from sklearn.model_selection import train_test_split\n",
    "X_train, X_test, y_train, y_test = train_test_split(X, y, test_size=.25, random_state=42)"
   ]
  },
  {
   "cell_type": "code",
   "execution_count": null,
   "metadata": {},
   "outputs": [],
   "source": [
    "# 1. Import the Estimator class you will use\n",
    "from sklearn.linear_model import LinearRegression\n",
    "# 2. Create an instance of the class\n",
    "ml_reg = LinearRegression()\n",
    "# 3. Use the fit method of the instance\n",
    "ml_reg.fit(X_train, y_train)\n",
    "# 4. Use the predict method to get the predictions\n",
    "y_pred_ml_reg = ml_reg.predict(X_train)"
   ]
  },
  {
   "cell_type": "code",
   "execution_count": null,
   "metadata": {},
   "outputs": [],
   "source": [
    "# Baseline model regression\n",
    "pd.Series(ml_reg.coef_, index=X.columns).sort_values(ascending=False).round(3)"
   ]
  },
  {
   "cell_type": "code",
   "execution_count": null,
   "metadata": {},
   "outputs": [],
   "source": [
    "ml_reg.intercept_.round(3)"
   ]
  },
  {
   "cell_type": "code",
   "execution_count": null,
   "metadata": {},
   "outputs": [],
   "source": [
    "from sklearn.metrics import mean_squared_error, r2_score\n",
    "# The mean squared error\n",
    "print(\"Mean squared error: %.2f\"\n",
    "      % mean_squared_error(y_train, y_pred_ml_reg))"
   ]
  },
  {
   "cell_type": "code",
   "execution_count": null,
   "metadata": {},
   "outputs": [],
   "source": [
    "# Explained variance score: 1 is perfect prediction\n",
    "print('Variance score: %.2f' % r2_score(y_train, y_pred_ml_reg))"
   ]
  },
  {
   "cell_type": "code",
   "execution_count": null,
   "metadata": {},
   "outputs": [],
   "source": [
    "datHeartSub = datHeart.drop(['HeartDisease'], axis=1)"
   ]
  },
  {
   "cell_type": "code",
   "execution_count": null,
   "metadata": {},
   "outputs": [],
   "source": [
    "datHeartSub.head()"
   ]
  },
  {
   "cell_type": "code",
   "execution_count": null,
   "metadata": {},
   "outputs": [],
   "source": [
    "# Using scikit-learn to perform K-Means clustering\n",
    "from sklearn.cluster import KMeans\n",
    "    \n",
    "# Specify the number of clusters (2) and fit the data datHousingSub\n",
    "kmeans = KMeans(n_clusters=2, random_state=0).fit(datHeartSub)"
   ]
  },
  {
   "cell_type": "code",
   "execution_count": null,
   "metadata": {},
   "outputs": [],
   "source": [
    "centroids = (kmeans.cluster_centers_)\n",
    "print(centroids)"
   ]
  },
  {
   "cell_type": "code",
   "execution_count": null,
   "metadata": {},
   "outputs": [],
   "source": [
    "labels = (kmeans.labels_)\n",
    "print(labels)"
   ]
  },
  {
   "cell_type": "code",
   "execution_count": null,
   "metadata": {},
   "outputs": [],
   "source": [
    "# Calculate 2-Cluster silhouette_score\n",
    "from sklearn.metrics import silhouette_score\n",
    "print(silhouette_score(datHeartSub, kmeans.labels_))"
   ]
  },
  {
   "cell_type": "code",
   "execution_count": null,
   "metadata": {},
   "outputs": [],
   "source": [
    "# Specify the number of clusters (3) and fit the data datHousingSub\n",
    "kmeans = KMeans(n_clusters=3, random_state=0).fit(datHeartSub)"
   ]
  },
  {
   "cell_type": "code",
   "execution_count": null,
   "metadata": {},
   "outputs": [],
   "source": [
    "centroids = (kmeans.cluster_centers_)\n",
    "print(centroids)"
   ]
  },
  {
   "cell_type": "code",
   "execution_count": null,
   "metadata": {},
   "outputs": [],
   "source": [
    "labels = (kmeans.labels_)\n",
    "print(labels)"
   ]
  },
  {
   "cell_type": "code",
   "execution_count": null,
   "metadata": {},
   "outputs": [],
   "source": [
    "# Calculate 3-Cluster silhouette_score\n",
    "from sklearn.metrics import silhouette_score\n",
    "print(silhouette_score(datHeartSub, kmeans.labels_))"
   ]
  },
  {
   "cell_type": "code",
   "execution_count": null,
   "metadata": {},
   "outputs": [],
   "source": [
    "# Specify the number of clusters (2) and fit the data datHousingSub\n",
    "kmeans = KMeans(n_clusters=2, random_state=0).fit(datHeartSub)"
   ]
  },
  {
   "cell_type": "code",
   "execution_count": null,
   "metadata": {},
   "outputs": [],
   "source": [
    "centroids = (kmeans.cluster_centers_)\n",
    "print(centroids)"
   ]
  },
  {
   "cell_type": "code",
   "execution_count": null,
   "metadata": {},
   "outputs": [],
   "source": [
    "labels = (kmeans.labels_)\n",
    "df_labels = pd.DataFrame(labels)\n",
    "df_labels.rename(columns={0:'Cluster'}, inplace=True)\n",
    "df_labels.head()"
   ]
  },
  {
   "cell_type": "code",
   "execution_count": null,
   "metadata": {},
   "outputs": [],
   "source": [
    "datHeart_Clust = pd.concat([datHeart, df_labels], axis=1)"
   ]
  },
  {
   "cell_type": "code",
   "execution_count": null,
   "metadata": {},
   "outputs": [],
   "source": [
    "datHeart_Clust.head()"
   ]
  },
  {
   "cell_type": "code",
   "execution_count": null,
   "metadata": {},
   "outputs": [],
   "source": [
    "datHeartC1 = datHeart_Clust.loc[datHeart_Clust['Cluster']==0]\n",
    "datHeartC2 = datHeart_Clust.loc[datHeart_Clust['Cluster']==1]"
   ]
  },
  {
   "cell_type": "code",
   "execution_count": null,
   "metadata": {},
   "outputs": [],
   "source": [
    "datHeartC1.head()"
   ]
  },
  {
   "cell_type": "code",
   "execution_count": null,
   "metadata": {},
   "outputs": [],
   "source": [
    "datHeartC2.head()"
   ]
  },
  {
   "cell_type": "code",
   "execution_count": null,
   "metadata": {},
   "outputs": [],
   "source": [
    "X = datHeartC1.drop(['HeartDisease'], axis=1)\n",
    "X.head()"
   ]
  },
  {
   "cell_type": "code",
   "execution_count": null,
   "metadata": {},
   "outputs": [],
   "source": [
    "y=datHeartC1['HeartDisease']\n",
    "y.head()"
   ]
  },
  {
   "cell_type": "code",
   "execution_count": null,
   "metadata": {},
   "outputs": [],
   "source": [
    "from sklearn.model_selection import train_test_split\n",
    "X_train, X_test, y_train, y_test = train_test_split(X, y, test_size=.25, random_state=42)"
   ]
  },
  {
   "cell_type": "code",
   "execution_count": null,
   "metadata": {},
   "outputs": [],
   "source": [
    "# 1. Import the Estimator class you will use\n",
    "from sklearn.linear_model import LinearRegression\n",
    "# 2. Create an instance of the class\n",
    "ml_reg = LinearRegression()\n",
    "# 3. Use the fit method of the instance\n",
    "ml_reg.fit(X_train, y_train)\n",
    "# 4. Use the predict method to get the predictions\n",
    "y_pred_ml_reg = ml_reg.predict(X_train)"
   ]
  },
  {
   "cell_type": "code",
   "execution_count": null,
   "metadata": {},
   "outputs": [],
   "source": [
    "# Cluster 1 regression model\n",
    "pd.Series(ml_reg.coef_, index=X.columns).sort_values(ascending=False).round(3)"
   ]
  },
  {
   "cell_type": "code",
   "execution_count": null,
   "metadata": {},
   "outputs": [],
   "source": [
    "ml_reg.intercept_.round(3)"
   ]
  },
  {
   "cell_type": "code",
   "execution_count": null,
   "metadata": {},
   "outputs": [],
   "source": [
    "from sklearn.metrics import mean_squared_error, r2_score\n",
    "# The mean squared error\n",
    "print(\"Mean squared error: %.2f\"\n",
    "      % mean_squared_error(y_train, y_pred_ml_reg))"
   ]
  },
  {
   "cell_type": "code",
   "execution_count": null,
   "metadata": {},
   "outputs": [],
   "source": [
    "# Explained variance score: 1 is perfect prediction\n",
    "print('Variance score: %.2f' % r2_score(y_train, y_pred_ml_reg))"
   ]
  },
  {
   "cell_type": "code",
   "execution_count": null,
   "metadata": {},
   "outputs": [],
   "source": [
    "X = datHeartC2.drop(['HeartDisease'], axis=1)\n",
    "X.head()"
   ]
  },
  {
   "cell_type": "code",
   "execution_count": null,
   "metadata": {},
   "outputs": [],
   "source": [
    "y=datHeartC2['HeartDisease']\n",
    "y.head()"
   ]
  },
  {
   "cell_type": "code",
   "execution_count": null,
   "metadata": {},
   "outputs": [],
   "source": [
    "from sklearn.model_selection import train_test_split\n",
    "X_train, X_test, y_train, y_test = train_test_split(X, y, test_size=.25, random_state=42)"
   ]
  },
  {
   "cell_type": "code",
   "execution_count": null,
   "metadata": {},
   "outputs": [],
   "source": [
    "# 1. Import the Estimator class you will use\n",
    "from sklearn.linear_model import LinearRegression\n",
    "# 2. Create an instance of the class\n",
    "ml_reg = LinearRegression()\n",
    "# 3. Use the fit method of the instance\n",
    "ml_reg.fit(X_train, y_train)\n",
    "# 4. Use the predict method to get the predictions\n",
    "y_pred_ml_reg = ml_reg.predict(X_train)"
   ]
  },
  {
   "cell_type": "code",
   "execution_count": null,
   "metadata": {},
   "outputs": [],
   "source": [
    "# Cluster 2 regression model\n",
    "pd.Series(ml_reg.coef_, index=X.columns).sort_values(ascending=False).round(3)"
   ]
  },
  {
   "cell_type": "code",
   "execution_count": null,
   "metadata": {},
   "outputs": [],
   "source": [
    "ml_reg.intercept_.round(3)"
   ]
  },
  {
   "cell_type": "code",
   "execution_count": null,
   "metadata": {},
   "outputs": [],
   "source": [
    "from sklearn.metrics import mean_squared_error, r2_score\n",
    "# The mean squared error\n",
    "print(\"Mean squared error: %.2f\"\n",
    "      % mean_squared_error(y_train, y_pred_ml_reg))"
   ]
  },
  {
   "cell_type": "code",
   "execution_count": null,
   "metadata": {},
   "outputs": [],
   "source": [
    "# Explained variance score: 1 is perfect prediction\n",
    "print('Variance score: %.2f' % r2_score(y_train, y_pred_ml_reg))"
   ]
  },
  {
   "cell_type": "code",
   "execution_count": null,
   "metadata": {},
   "outputs": [],
   "source": []
  }
 ],
 "metadata": {
  "kernelspec": {
   "display_name": "Python 3",
   "language": "python",
   "name": "python3"
  },
  "language_info": {
   "codemirror_mode": {
    "name": "ipython",
    "version": 3
   },
   "file_extension": ".py",
   "mimetype": "text/x-python",
   "name": "python",
   "nbconvert_exporter": "python",
   "pygments_lexer": "ipython3",
   "version": "3.7.3"
  }
 },
 "nbformat": 4,
 "nbformat_minor": 2
}
